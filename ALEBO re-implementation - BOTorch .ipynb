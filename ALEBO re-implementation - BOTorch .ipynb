{
 "cells": [
  {
   "cell_type": "markdown",
   "id": "brown-charm",
   "metadata": {},
   "source": [
    "# Imports"
   ]
  },
  {
   "cell_type": "code",
   "execution_count": 12,
   "id": "overhead-brunei",
   "metadata": {
    "ExecuteTime": {
     "end_time": "2021-02-17T10:00:48.641337Z",
     "start_time": "2021-02-17T10:00:48.631337Z"
    }
   },
   "outputs": [],
   "source": [
    "%matplotlib notebook\n",
    "\n",
    "import importlib\n",
    "import time\n",
    "import numpy as np\n",
    "import pandas as pd\n",
    "import functools\n",
    "import torch\n",
    "import numpy as np\n",
    "import gpytorch\n",
    "import re\n",
    "import time\n",
    "import warnings\n",
    "import math\n",
    "import botorch \n",
    "\n",
    "from torch import Tensor\n",
    "\n",
    "from matplotlib import pyplot as plt\n",
    "\n",
    "from scipy import stats\n",
    "\n",
    "from gpytorch.kernels.kernel import Kernel\n",
    "from gpytorch.mlls.exact_marginal_log_likelihood import ExactMarginalLogLikelihood\n",
    "\n",
    "from botorch.acquisition.monte_carlo import qNoisyExpectedImprovement\n",
    "from botorch.exceptions import BadInitialCandidatesWarning\n",
    "from botorch.test_functions.synthetic import SyntheticTestFunction\n",
    "\n",
    "from botorch.models import FixedNoiseGP, ModelListGP\n",
    "from botorch.acquisition.analytic import ExpectedImprovement\n",
    "from botorch.models.gp_regression import FixedNoiseGP\n",
    "from botorch.models.model_list_gp_regression import ModelListGP\n",
    "\n",
    "\n",
    "from ax.models.torch import alebo as alebo_implementation_ax\n",
    "from ax.models.random.alebo_initializer import ALEBOInitializer\n",
    "from ax.modelbridge.strategies.alebo import ALEBOStrategy\n",
    "\n",
    "from ax.models.torch_base import TorchModel\n",
    "\n",
    "\n",
    "from typing import Any, Callable, Dict, List, MutableMapping, Optional, Tuple, Union\n",
    "\n",
    "warnings.filterwarnings('ignore', category=BadInitialCandidatesWarning)\n",
    "warnings.filterwarnings('ignore', category=RuntimeWarning)"
   ]
  },
  {
   "cell_type": "markdown",
   "id": "communist-expense",
   "metadata": {},
   "source": [
    "# System Information"
   ]
  },
  {
   "cell_type": "code",
   "execution_count": 13,
   "id": "single-interval",
   "metadata": {
    "ExecuteTime": {
     "end_time": "2021-02-17T10:00:49.195945Z",
     "start_time": "2021-02-17T10:00:49.190951Z"
    }
   },
   "outputs": [
    {
     "name": "stdout",
     "output_type": "stream",
     "text": [
      "0.3.3\n",
      "1.3.1\n",
      "1.7.1\n"
     ]
    }
   ],
   "source": [
    "print(botorch.__version__)\n",
    "print(gpytorch.__version__)\n",
    "print(torch.__version__)"
   ]
  },
  {
   "cell_type": "markdown",
   "id": "breeding-diary",
   "metadata": {},
   "source": [
    "# Problem\n",
    "I am trying to re-implement ALEBO in BOTorch, to easily implement features such as heteroscedastic GPs and sparse GPs.   \n",
    "I test my re-implementation against the Branin_100 function.   \n",
    "The AX version of ALEBO can achieve very good results on this function, as shown here:  \n",
    "https://github.com/facebookresearch/alebo/blob/master/quickstart.ipynb  \n",
    "I am trying to achieve similar performance (in speed, memory usage and minima location) with a BOTorch re-implementation.   \n",
    "\n",
    "I define the following helper functions below:\n",
    "1. Branin_100 function creation (inheriting from botorch.test_functions.synthetic.SyntheticTestFunction).   \n",
    "2. Branin_100_ALEBO_BOTorch wrapper (analogous to obj() here: https://botorch.org/tutorials/bo_with_warped_gp)   \n",
    "3. gen_projection (taken from ax.modelbridge.strategies.alebo https://github.com/facebook/Ax/blob/master/ax/modelbridge/strategies/alebo.py)\n",
    "4. generate_initial_data_Branin_100 (analogous to generate_initial_data() in above tutorial)   \n",
    "5. standardise_outputs (normalises outputs to have zero mean and standard deviation one).  \n",
    "6. initialize_model (analogous to initialize_model() in above tutorial)  \n",
    "7. update_random_observations_Branin_100 (analogous to update_random_observations() in above tutorial)  \n",
    "\n",
    "I then provide my BO loop in full, below. \n",
    "\n",
    "Note: I often name variables according to their dimensions, and if they're an array or tensor.   \n",
    "I had to change between dimensions and arrays/tensors often in the implementation, so I hope you can excuse this.   \n",
    "example_variable_D_x_n_array for instance, would be a variable of dimensions (D x N), and a numpy array.   \n",
    "D = original dimensionality, d = embedding dimensionality, and n = number of sample points. "
   ]
  },
  {
   "cell_type": "markdown",
   "id": "nominated-citizenship",
   "metadata": {},
   "source": [
    "# Helper functions:"
   ]
  },
  {
   "cell_type": "markdown",
   "id": "immediate-enforcement",
   "metadata": {},
   "source": [
    "## Branin_100 function creation \n",
    "I can see that the Branin function is already implemented in botorch.test_functions.synthetic.SyntheticTestFunction. I make some simple edits to it, to create a Branin_100 function, which only has two dimensions of interest:"
   ]
  },
  {
   "cell_type": "code",
   "execution_count": 14,
   "id": "elementary-incidence",
   "metadata": {
    "ExecuteTime": {
     "end_time": "2021-02-17T10:00:49.900052Z",
     "start_time": "2021-02-17T10:00:49.895057Z"
    }
   },
   "outputs": [],
   "source": [
    "class Branin_100_Shaheen(SyntheticTestFunction):\n",
    "\n",
    "    dim = 100 # Edited dim to be 100 \n",
    "    _bounds = [(-5.0, 10.0), (0.0, 15.0)]*50 # Edited bounds for 100-dim function\n",
    "    _optimal_value = 0.397887\n",
    "    _optimizers = [(-math.pi, 12.275), (math.pi, 2.275), (9.42478, 2.475)]\n",
    "\n",
    "    def evaluate_true(self, X: Tensor) -> Tensor:\n",
    "        t1 = (\n",
    "            X[..., 1]\n",
    "            - 5.1 / (4 * math.pi ** 2) * X[..., 0] ** 2\n",
    "            + 5 / math.pi * X[..., 0]\n",
    "            - 6\n",
    "        )\n",
    "        t2 = 10 * (1 - 1 / (8 * math.pi)) * torch.cos(X[..., 0])\n",
    "        return t1 ** 2 + t2 + 10"
   ]
  },
  {
   "cell_type": "markdown",
   "id": "unique-rehabilitation",
   "metadata": {},
   "source": [
    "## Branin_100_ALEBO_BOTorch wrapper\n",
    "I wrap the Branin_100 function above, so I can input a set of sample points, train_x:\n"
   ]
  },
  {
   "cell_type": "code",
   "execution_count": 15,
   "id": "clinical-cleaners",
   "metadata": {
    "ExecuteTime": {
     "end_time": "2021-02-17T10:00:50.236611Z",
     "start_time": "2021-02-17T10:00:50.232633Z"
    }
   },
   "outputs": [],
   "source": [
    "def Branin_100_ALEBO_BOTorch_wrapper(train_x):\n",
    "    branin_100_ = Branin_100_Shaheen(noise_std = 0.0, negate = False)\n",
    "    number_of_sample_points = train_x.shape[1]\n",
    "    fitness_values = np.zeros(shape=(number_of_sample_points))\n",
    "    \n",
    "    for i in range(0, number_of_sample_points):\n",
    "        param_set = train_x[:,i].T\n",
    "        # Convert param set to tensor, for input to evaluate_true on test function\n",
    "        param_set = torch.tensor(param_set)\n",
    "        fitness_values[i] = branin_100_.evaluate_true(X = param_set)\n",
    "\n",
    "    return fitness_values"
   ]
  },
  {
   "cell_type": "markdown",
   "id": "black-equality",
   "metadata": {},
   "source": [
    "## gen_projection \n",
    "Lifted straight from ax.modelbridge.strategies.alebo, minus self parameter, as it was part of the ALEBOStrategy class."
   ]
  },
  {
   "cell_type": "code",
   "execution_count": 16,
   "id": "artificial-yacht",
   "metadata": {
    "ExecuteTime": {
     "end_time": "2021-02-17T10:00:50.569487Z",
     "start_time": "2021-02-17T10:00:50.566465Z"
    }
   },
   "outputs": [],
   "source": [
    "def gen_projection(d: int, D: int, dtype: torch.dtype, device: torch.device) -> torch.Tensor:\n",
    "    \"\"\"Generate the projection matrix B as a (d x D) tensor\"\"\"\n",
    "    B0 = torch.randn(d, D, dtype=dtype, device=device)\n",
    "    B = B0 / torch.sqrt((B0 ** 2).sum(dim=0))\n",
    "    return B"
   ]
  },
  {
   "cell_type": "markdown",
   "id": "artistic-cheese",
   "metadata": {},
   "source": [
    "## standardise_outputs\n",
    "I couldn't see any normalisation of the outputs, to aid the GP fitting, but I could be completely wrong here.   \n",
    "I implemented a rudimentary normalisation, taking the mean to zero and the standard deviation to one:"
   ]
  },
  {
   "cell_type": "code",
   "execution_count": 17,
   "id": "narrow-cause",
   "metadata": {
    "ExecuteTime": {
     "end_time": "2021-02-17T10:00:50.921209Z",
     "start_time": "2021-02-17T10:00:50.917230Z"
    }
   },
   "outputs": [],
   "source": [
    "def standardise_outputs(outputs_vector):\n",
    "    mean_of_outputs = np.mean(outputs_vector)\n",
    "    std_dev_of_outputs = np.std(outputs_vector)\n",
    "    \n",
    "    outputs_vector -= mean_of_outputs\n",
    "    outputs_vector /= std_dev_of_outputs\n",
    "    \n",
    "    return outputs_vector, mean_of_outputs, std_dev_of_outputs"
   ]
  },
  {
   "cell_type": "markdown",
   "id": "listed-grave",
   "metadata": {},
   "source": [
    "## generate_initial_data_Branin_100\n",
    "In this function, I take a requested number of sample points, the projection matrix B, and output:\n",
    "1. The training sample points\n",
    "2. The normalised training objective values\n",
    "3. The best objective\n",
    "4. The training sample points, projected down to the embedding dimension \n",
    "5. The mean of the training objectives \n",
    "6. The standard deviation of the training objectives \n",
    "\n",
    "I use the ALEBOInitializer to generate these training sample points, which I think is used correctly, but I could be wrong. "
   ]
  },
  {
   "cell_type": "code",
   "execution_count": 18,
   "id": "legendary-headline",
   "metadata": {
    "ExecuteTime": {
     "end_time": "2021-02-17T10:00:51.261767Z",
     "start_time": "2021-02-17T10:00:51.256176Z"
    }
   },
   "outputs": [],
   "source": [
    "def generate_initial_data_Branin_100(n, B: torch.Tensor):\n",
    "    # D = original dimensionality\n",
    "    # n = number of sample points\n",
    "    # d = embedding dimensionality\n",
    "    \n",
    "    # Initialize ALEBOInitializer\n",
    "    ALEBO_Initializer = ALEBOInitializer(B.cpu().numpy()) \n",
    "    \n",
    "    # Use ALEBOInitializer to generate initial sample points\n",
    "    train_x_n_x_D_array , __ = ALEBO_Initializer.gen(n = n, bounds=[(-1.0, 1.0)] * B.shape[1]) \n",
    "    \n",
    "    # Create train_x_n_x_D as a tensor, for torch.matmul with B\n",
    "    train_x_n_x_D_tensor = torch.from_numpy(train_x_n_x_D_array)\n",
    "\n",
    "    # Pass training data to Branin_100 wrapper, get objective values\n",
    "    exact_obj = Branin_100_ALEBO_BOTorch_wrapper(train_x_n_x_D_array.T)\n",
    "    exact_obj_n_x_1 = torch.tensor(exact_obj).unsqueeze(-1)\n",
    "    \n",
    "    # Normalise objective values \n",
    "    exact_obj_normalised, mean_of_initial_data, std_dev_of_initial_data = standardise_outputs(exact_obj)\n",
    "    train_obj_normalised = torch.tensor(exact_obj_normalised).unsqueeze(-1)  # add output dimension\n",
    "    \n",
    "    # Get best objective value, unnormalised\n",
    "    best_observed_value = exact_obj_n_x_1.min().item()\n",
    "    \n",
    "    # Project training data down to embedding dim \n",
    "    train_x_projected_down_d_x_n_tensor = torch.matmul(B, train_x_n_x_D_tensor.T)\n",
    "\n",
    "    # output training inputs, normalised training objectives, best objective, \n",
    "    #training inputs projected down, mean of training objectives, std. dev of training objectives\n",
    "    return train_x_n_x_D_tensor, train_obj_normalised, best_observed_value, train_x_projected_down_d_x_n_tensor, mean_of_initial_data, std_dev_of_initial_data"
   ]
  },
  {
   "cell_type": "markdown",
   "id": "virtual-extraction",
   "metadata": {},
   "source": [
    "## initialize_model \n",
    "Here, I needed to re-implement the initialize_model functions in the BOTorch tutorials.   \n",
    "Digging around the ALEBO code, I found the ALEBOGP class, which I instantiate with some parameters which again, I think should be correct. "
   ]
  },
  {
   "cell_type": "code",
   "execution_count": 19,
   "id": "appointed-camera",
   "metadata": {
    "ExecuteTime": {
     "end_time": "2021-02-17T10:00:51.585801Z",
     "start_time": "2021-02-17T10:00:51.581798Z"
    }
   },
   "outputs": [],
   "source": [
    "def initialize_model(train_x_projected_down, train_obj, B, noise):\n",
    "    '''\n",
    "    Args from ALEBOGP:\n",
    "    B: (d x D) Projection matrix.\n",
    "    train_X: (n x d) X training data.\n",
    "    train_Y: (n x 1) Y training data.\n",
    "    train_Yvar: (n x 1) Noise variances of each training Y.\n",
    "    '''\n",
    "    dtype = torch.double\n",
    "    device = torch.device('cpu')\n",
    "    train_yvar = torch.tensor(noise**2, device=device, dtype=dtype)\n",
    "    model = alebo_implementation_ax.ALEBOGP(train_X = train_x_projected_down, \n",
    "                                            train_Y = train_obj, \n",
    "                                            train_Yvar = train_yvar.expand_as(train_obj), \n",
    "                                            B = B).to(train_x_projected_down) \n",
    "    \n",
    "    mll = ExactMarginalLogLikelihood(model.likelihood, model)\n",
    "    return mll, model"
   ]
  },
  {
   "cell_type": "markdown",
   "id": "spanish-brunei",
   "metadata": {},
   "source": [
    "## update_random_observations_Branin_100\n",
    "Here, I needed to replicate the random selection and execution of a sample point, as in the BOTorch tutorials, and used ALEBOInitializer to do so. "
   ]
  },
  {
   "cell_type": "code",
   "execution_count": 20,
   "id": "golden-subdivision",
   "metadata": {
    "ExecuteTime": {
     "end_time": "2021-02-17T10:00:51.923666Z",
     "start_time": "2021-02-17T10:00:51.919648Z"
    }
   },
   "outputs": [],
   "source": [
    "def update_random_observations_Branin_100(best_random):\n",
    "    \"\"\"Simulates a quasi-random policy by taking a the current list of best values observed randomly,\n",
    "    drawing a new random point, observing its value, and updating the list.\n",
    "    \"\"\"\n",
    "    ALEBO_Initializer = ALEBOInitializer(B.cpu().numpy())\n",
    "    rand_x_1_x_D , __ = ALEBO_Initializer.gen(n = 1, bounds=[(-1.0, 1.0)] * B.shape[1]) \n",
    "    rand_x_D_x_1 = rand_x_1_x_D.T\n",
    "    next_random_objective_value = torch.tensor(Branin_100_ALEBO_BOTorch_wrapper(rand_x_D_x_1)).unsqueeze(-1).min().item()\n",
    "    best_random.append(min(best_random[-1], next_random_objective_value))       \n",
    "    return best_random"
   ]
  },
  {
   "cell_type": "markdown",
   "id": "vital-wireless",
   "metadata": {},
   "source": [
    "# BO Loop "
   ]
  },
  {
   "cell_type": "code",
   "execution_count": 21,
   "id": "extreme-injection",
   "metadata": {
    "ExecuteTime": {
     "end_time": "2021-02-17T10:10:08.340712Z",
     "start_time": "2021-02-17T10:00:52.255682Z"
    }
   },
   "outputs": [
    {
     "name": "stdout",
     "output_type": "stream",
     "text": [
      "\n",
      "Trial  1 of 3 "
     ]
    },
    {
     "name": "stderr",
     "output_type": "stream",
     "text": [
      "[INFO 02-17 10:00:57] ax.models.torch.alebo: Generated sequential candidate 1 of 1\n",
      "<ipython-input-21-f0a076a98d7b>:88: UserWarning:\n",
      "\n",
      "To copy construct from a tensor, it is recommended to use sourceTensor.clone().detach() or sourceTensor.clone().detach().requires_grad_(True), rather than torch.tensor(sourceTensor).\n",
      "\n"
     ]
    },
    {
     "name": "stdout",
     "output_type": "stream",
     "text": [
      "reached end of BO loop, iteration = 1\n"
     ]
    },
    {
     "name": "stderr",
     "output_type": "stream",
     "text": [
      "[INFO 02-17 10:01:04] ax.models.torch.alebo: Generated sequential candidate 1 of 1\n"
     ]
    },
    {
     "name": "stdout",
     "output_type": "stream",
     "text": [
      "reached end of BO loop, iteration = 2\n"
     ]
    },
    {
     "name": "stderr",
     "output_type": "stream",
     "text": [
      "[INFO 02-17 10:01:12] ax.models.torch.alebo: Generated sequential candidate 1 of 1\n"
     ]
    },
    {
     "name": "stdout",
     "output_type": "stream",
     "text": [
      "reached end of BO loop, iteration = 3\n"
     ]
    },
    {
     "name": "stderr",
     "output_type": "stream",
     "text": [
      "[INFO 02-17 10:01:24] ax.models.torch.alebo: Generated sequential candidate 1 of 1\n"
     ]
    },
    {
     "name": "stdout",
     "output_type": "stream",
     "text": [
      "reached end of BO loop, iteration = 4\n"
     ]
    },
    {
     "name": "stderr",
     "output_type": "stream",
     "text": [
      "[INFO 02-17 10:01:44] ax.models.torch.alebo: Generated sequential candidate 1 of 1\n"
     ]
    },
    {
     "name": "stdout",
     "output_type": "stream",
     "text": [
      "reached end of BO loop, iteration = 5\n"
     ]
    },
    {
     "name": "stderr",
     "output_type": "stream",
     "text": [
      "[INFO 02-17 10:02:07] ax.models.torch.alebo: Generated sequential candidate 1 of 1\n"
     ]
    },
    {
     "name": "stdout",
     "output_type": "stream",
     "text": [
      "reached end of BO loop, iteration = 6\n"
     ]
    },
    {
     "name": "stderr",
     "output_type": "stream",
     "text": [
      "[INFO 02-17 10:02:18] ax.models.torch.alebo: Generated sequential candidate 1 of 1\n"
     ]
    },
    {
     "name": "stdout",
     "output_type": "stream",
     "text": [
      "reached end of BO loop, iteration = 7\n"
     ]
    },
    {
     "name": "stderr",
     "output_type": "stream",
     "text": [
      "[INFO 02-17 10:02:28] ax.models.torch.alebo: Generated sequential candidate 1 of 1\n"
     ]
    },
    {
     "name": "stdout",
     "output_type": "stream",
     "text": [
      "reached end of BO loop, iteration = 8\n"
     ]
    },
    {
     "name": "stderr",
     "output_type": "stream",
     "text": [
      "[INFO 02-17 10:02:37] ax.models.torch.alebo: Generated sequential candidate 1 of 1\n"
     ]
    },
    {
     "name": "stdout",
     "output_type": "stream",
     "text": [
      "reached end of BO loop, iteration = 9\n"
     ]
    },
    {
     "name": "stderr",
     "output_type": "stream",
     "text": [
      "[INFO 02-17 10:02:48] ax.models.torch.alebo: Generated sequential candidate 1 of 1\n"
     ]
    },
    {
     "name": "stdout",
     "output_type": "stream",
     "text": [
      "reached end of BO loop, iteration = 10\n"
     ]
    },
    {
     "name": "stderr",
     "output_type": "stream",
     "text": [
      "[INFO 02-17 10:03:01] ax.models.torch.alebo: Generated sequential candidate 1 of 1\n"
     ]
    },
    {
     "name": "stdout",
     "output_type": "stream",
     "text": [
      "reached end of BO loop, iteration = 11\n"
     ]
    },
    {
     "name": "stderr",
     "output_type": "stream",
     "text": [
      "[INFO 02-17 10:03:28] ax.models.torch.alebo: Generated sequential candidate 1 of 1\n"
     ]
    },
    {
     "name": "stdout",
     "output_type": "stream",
     "text": [
      "reached end of BO loop, iteration = 12\n"
     ]
    },
    {
     "name": "stderr",
     "output_type": "stream",
     "text": [
      "[INFO 02-17 10:03:41] ax.models.torch.alebo: Generated sequential candidate 1 of 1\n"
     ]
    },
    {
     "name": "stdout",
     "output_type": "stream",
     "text": [
      "reached end of BO loop, iteration = 13\n"
     ]
    },
    {
     "name": "stderr",
     "output_type": "stream",
     "text": [
      "[INFO 02-17 10:03:56] ax.models.torch.alebo: Generated sequential candidate 1 of 1\n"
     ]
    },
    {
     "name": "stdout",
     "output_type": "stream",
     "text": [
      "reached end of BO loop, iteration = 14\n"
     ]
    },
    {
     "name": "stderr",
     "output_type": "stream",
     "text": [
      "[INFO 02-17 10:04:15] ax.models.torch.alebo: Generated sequential candidate 1 of 1\n"
     ]
    },
    {
     "name": "stdout",
     "output_type": "stream",
     "text": [
      "reached end of BO loop, iteration = 15\n",
      "\n",
      "Trial  2 of 3 "
     ]
    },
    {
     "name": "stderr",
     "output_type": "stream",
     "text": [
      "[INFO 02-17 10:04:22] ax.models.torch.alebo: Generated sequential candidate 1 of 1\n"
     ]
    },
    {
     "name": "stdout",
     "output_type": "stream",
     "text": [
      "reached end of BO loop, iteration = 1\n"
     ]
    },
    {
     "name": "stderr",
     "output_type": "stream",
     "text": [
      "[INFO 02-17 10:04:28] ax.models.torch.alebo: Generated sequential candidate 1 of 1\n"
     ]
    },
    {
     "name": "stdout",
     "output_type": "stream",
     "text": [
      "reached end of BO loop, iteration = 2\n"
     ]
    },
    {
     "name": "stderr",
     "output_type": "stream",
     "text": [
      "[INFO 02-17 10:04:35] ax.models.torch.alebo: Generated sequential candidate 1 of 1\n"
     ]
    },
    {
     "name": "stdout",
     "output_type": "stream",
     "text": [
      "reached end of BO loop, iteration = 3\n"
     ]
    },
    {
     "name": "stderr",
     "output_type": "stream",
     "text": [
      "[INFO 02-17 10:04:41] ax.models.torch.alebo: Generated sequential candidate 1 of 1\n"
     ]
    },
    {
     "name": "stdout",
     "output_type": "stream",
     "text": [
      "reached end of BO loop, iteration = 4\n"
     ]
    },
    {
     "name": "stderr",
     "output_type": "stream",
     "text": [
      "[INFO 02-17 10:04:48] ax.models.torch.alebo: Generated sequential candidate 1 of 1\n"
     ]
    },
    {
     "name": "stdout",
     "output_type": "stream",
     "text": [
      "reached end of BO loop, iteration = 5\n"
     ]
    },
    {
     "name": "stderr",
     "output_type": "stream",
     "text": [
      "[INFO 02-17 10:04:55] ax.models.torch.alebo: Generated sequential candidate 1 of 1\n"
     ]
    },
    {
     "name": "stdout",
     "output_type": "stream",
     "text": [
      "reached end of BO loop, iteration = 6\n"
     ]
    },
    {
     "name": "stderr",
     "output_type": "stream",
     "text": [
      "[INFO 02-17 10:05:06] ax.models.torch.alebo: Generated sequential candidate 1 of 1\n"
     ]
    },
    {
     "name": "stdout",
     "output_type": "stream",
     "text": [
      "reached end of BO loop, iteration = 7\n"
     ]
    },
    {
     "name": "stderr",
     "output_type": "stream",
     "text": [
      "[INFO 02-17 10:05:19] ax.models.torch.alebo: Generated sequential candidate 1 of 1\n"
     ]
    },
    {
     "name": "stdout",
     "output_type": "stream",
     "text": [
      "reached end of BO loop, iteration = 8\n"
     ]
    },
    {
     "name": "stderr",
     "output_type": "stream",
     "text": [
      "[INFO 02-17 10:05:35] ax.models.torch.alebo: Generated sequential candidate 1 of 1\n"
     ]
    },
    {
     "name": "stdout",
     "output_type": "stream",
     "text": [
      "reached end of BO loop, iteration = 9\n"
     ]
    },
    {
     "name": "stderr",
     "output_type": "stream",
     "text": [
      "[INFO 02-17 10:05:53] ax.models.torch.alebo: Generated sequential candidate 1 of 1\n"
     ]
    },
    {
     "name": "stdout",
     "output_type": "stream",
     "text": [
      "reached end of BO loop, iteration = 10\n"
     ]
    },
    {
     "name": "stderr",
     "output_type": "stream",
     "text": [
      "[INFO 02-17 10:06:11] ax.models.torch.alebo: Generated sequential candidate 1 of 1\n"
     ]
    },
    {
     "name": "stdout",
     "output_type": "stream",
     "text": [
      "reached end of BO loop, iteration = 11\n"
     ]
    },
    {
     "name": "stderr",
     "output_type": "stream",
     "text": [
      "[INFO 02-17 10:06:26] ax.models.torch.alebo: Generated sequential candidate 1 of 1\n"
     ]
    },
    {
     "name": "stdout",
     "output_type": "stream",
     "text": [
      "reached end of BO loop, iteration = 12\n"
     ]
    },
    {
     "name": "stderr",
     "output_type": "stream",
     "text": [
      "[INFO 02-17 10:06:42] ax.models.torch.alebo: Generated sequential candidate 1 of 1\n"
     ]
    },
    {
     "name": "stdout",
     "output_type": "stream",
     "text": [
      "reached end of BO loop, iteration = 13\n"
     ]
    },
    {
     "name": "stderr",
     "output_type": "stream",
     "text": [
      "[INFO 02-17 10:06:56] ax.models.torch.alebo: Generated sequential candidate 1 of 1\n"
     ]
    },
    {
     "name": "stdout",
     "output_type": "stream",
     "text": [
      "reached end of BO loop, iteration = 14\n"
     ]
    },
    {
     "name": "stderr",
     "output_type": "stream",
     "text": [
      "[INFO 02-17 10:07:11] ax.models.torch.alebo: Generated sequential candidate 1 of 1\n"
     ]
    },
    {
     "name": "stdout",
     "output_type": "stream",
     "text": [
      "reached end of BO loop, iteration = 15\n",
      "\n",
      "Trial  3 of 3 "
     ]
    },
    {
     "name": "stderr",
     "output_type": "stream",
     "text": [
      "[INFO 02-17 10:07:17] ax.models.torch.alebo: Generated sequential candidate 1 of 1\n"
     ]
    },
    {
     "name": "stdout",
     "output_type": "stream",
     "text": [
      "reached end of BO loop, iteration = 1\n"
     ]
    },
    {
     "name": "stderr",
     "output_type": "stream",
     "text": [
      "[INFO 02-17 10:07:24] ax.models.torch.alebo: Generated sequential candidate 1 of 1\n"
     ]
    },
    {
     "name": "stdout",
     "output_type": "stream",
     "text": [
      "reached end of BO loop, iteration = 2\n"
     ]
    },
    {
     "name": "stderr",
     "output_type": "stream",
     "text": [
      "[INFO 02-17 10:07:32] ax.models.torch.alebo: Generated sequential candidate 1 of 1\n"
     ]
    },
    {
     "name": "stdout",
     "output_type": "stream",
     "text": [
      "reached end of BO loop, iteration = 3\n"
     ]
    },
    {
     "name": "stderr",
     "output_type": "stream",
     "text": [
      "[INFO 02-17 10:07:42] ax.models.torch.alebo: Generated sequential candidate 1 of 1\n"
     ]
    },
    {
     "name": "stdout",
     "output_type": "stream",
     "text": [
      "reached end of BO loop, iteration = 4\n"
     ]
    },
    {
     "name": "stderr",
     "output_type": "stream",
     "text": [
      "[INFO 02-17 10:07:56] ax.models.torch.alebo: Generated sequential candidate 1 of 1\n"
     ]
    },
    {
     "name": "stdout",
     "output_type": "stream",
     "text": [
      "reached end of BO loop, iteration = 5\n"
     ]
    },
    {
     "name": "stderr",
     "output_type": "stream",
     "text": [
      "[INFO 02-17 10:08:06] ax.models.torch.alebo: Generated sequential candidate 1 of 1\n"
     ]
    },
    {
     "name": "stdout",
     "output_type": "stream",
     "text": [
      "reached end of BO loop, iteration = 6\n"
     ]
    },
    {
     "name": "stderr",
     "output_type": "stream",
     "text": [
      "[INFO 02-17 10:08:30] ax.models.torch.alebo: Generated sequential candidate 1 of 1\n"
     ]
    },
    {
     "name": "stdout",
     "output_type": "stream",
     "text": [
      "reached end of BO loop, iteration = 7\n"
     ]
    },
    {
     "name": "stderr",
     "output_type": "stream",
     "text": [
      "[INFO 02-17 10:08:41] ax.models.torch.alebo: Generated sequential candidate 1 of 1\n"
     ]
    },
    {
     "name": "stdout",
     "output_type": "stream",
     "text": [
      "reached end of BO loop, iteration = 8\n"
     ]
    },
    {
     "name": "stderr",
     "output_type": "stream",
     "text": [
      "[INFO 02-17 10:08:52] ax.models.torch.alebo: Generated sequential candidate 1 of 1\n"
     ]
    },
    {
     "name": "stdout",
     "output_type": "stream",
     "text": [
      "reached end of BO loop, iteration = 9\n"
     ]
    },
    {
     "name": "stderr",
     "output_type": "stream",
     "text": [
      "[INFO 02-17 10:09:01] ax.models.torch.alebo: Generated sequential candidate 1 of 1\n"
     ]
    },
    {
     "name": "stdout",
     "output_type": "stream",
     "text": [
      "reached end of BO loop, iteration = 10\n"
     ]
    },
    {
     "name": "stderr",
     "output_type": "stream",
     "text": [
      "[INFO 02-17 10:09:13] ax.models.torch.alebo: Generated sequential candidate 1 of 1\n"
     ]
    },
    {
     "name": "stdout",
     "output_type": "stream",
     "text": [
      "reached end of BO loop, iteration = 11\n"
     ]
    },
    {
     "name": "stderr",
     "output_type": "stream",
     "text": [
      "[INFO 02-17 10:09:25] ax.models.torch.alebo: Generated sequential candidate 1 of 1\n"
     ]
    },
    {
     "name": "stdout",
     "output_type": "stream",
     "text": [
      "reached end of BO loop, iteration = 12\n"
     ]
    },
    {
     "name": "stderr",
     "output_type": "stream",
     "text": [
      "[INFO 02-17 10:09:39] ax.models.torch.alebo: Generated sequential candidate 1 of 1\n"
     ]
    },
    {
     "name": "stdout",
     "output_type": "stream",
     "text": [
      "reached end of BO loop, iteration = 13\n"
     ]
    },
    {
     "name": "stderr",
     "output_type": "stream",
     "text": [
      "[INFO 02-17 10:09:53] ax.models.torch.alebo: Generated sequential candidate 1 of 1\n"
     ]
    },
    {
     "name": "stdout",
     "output_type": "stream",
     "text": [
      "reached end of BO loop, iteration = 14\n"
     ]
    },
    {
     "name": "stderr",
     "output_type": "stream",
     "text": [
      "[INFO 02-17 10:10:07] ax.models.torch.alebo: Generated sequential candidate 1 of 1\n"
     ]
    },
    {
     "name": "stdout",
     "output_type": "stream",
     "text": [
      "reached end of BO loop, iteration = 15\n"
     ]
    }
   ],
   "source": [
    "N_TRIALS = 3\n",
    "N_BATCH = 15\n",
    "n_init = 5\n",
    "torch.manual_seed(1)\n",
    "\n",
    "# I had to increase this from 0.1 to avoid numerical instabilities, but I think it may be affecting performance somewhat \n",
    "noise = 1.0\n",
    "\n",
    "device = torch.device('cpu')\n",
    "dtype = torch.double\n",
    "\n",
    "# Initialise results lists for N_TRIALS\n",
    "best_observed_all, best_random_all = [], []\n",
    "\n",
    "# Create projection matrix B\n",
    "B = gen_projection(d = 2, D = 100, dtype = torch.double, device = 'cpu')\n",
    "\n",
    "# average over multiple trials\n",
    "for trial in range(1, N_TRIALS + 1):\n",
    "    \n",
    "    print(f\"\\nTrial {trial:>2} of {N_TRIALS} \", end=\"\")\n",
    "    \n",
    "    # Initialise results list for N_BATCH\n",
    "    best_observed, best_random = [], []\n",
    "    \n",
    "    # Call helper function to generate initial training data\n",
    "    train_x, train_obj_normalised, best_observed_value, train_x_projected_down_d_x_n, mean_init_data, std_dev_init_data = generate_initial_data_Branin_100(n= n_init, B = B)\n",
    "\n",
    "    # Transpose training sample points projected down, for input to initialize_model\n",
    "    train_x_projected_down_n_x_d_tensor = train_x_projected_down_d_x_n.T \n",
    "    mll, model = initialize_model(train_x_projected_down_n_x_d_tensor, train_obj_normalised, B, noise = noise)\n",
    "\n",
    "    # Append best value from training data to results lists\n",
    "    best_observed.append(best_observed_value)\n",
    "    best_random.append(best_observed_value)\n",
    "    init_state_dict = model.state_dict()\n",
    "\n",
    "    # run N_BATCH rounds of BayesOpt after the initial random batch\n",
    "    for iteration in range(1, N_BATCH + 1):    \n",
    "                \n",
    "        # Fit ALEBO GP model\n",
    "        train_yvar = torch.tensor(noise**2, device = device, dtype = dtype)\n",
    "        m_b = alebo_implementation_ax.get_fitted_model(B = B, \n",
    "                               train_X = train_x_projected_down_n_x_d_tensor, \n",
    "                               train_Y = train_obj_normalised,\n",
    "                               train_Yvar = train_yvar.expand_as(train_obj_normalised),\n",
    "                               restarts = 20,\n",
    "                               nsamp = 512,\n",
    "                               init_state_dict = init_state_dict)\n",
    "        \n",
    "        # Get MLL for model \n",
    "        mll_fitted = ExactMarginalLogLikelihood(m_b.likelihood, m_b)\n",
    "        \n",
    "        # We use the NEI as our acquisition function. \n",
    "        Nei = qNoisyExpectedImprovement(model=m_b, X_baseline=train_x_projected_down_n_x_d_tensor)\n",
    "        \n",
    "        # Optimize acquisition function and get new observation\n",
    "        # Note, we use the alebo_acqf_optimizer, as defined in the ALEBO AX implementation\n",
    "        new_x_1_x_d_tensor, new_obj_tensor = alebo_implementation_ax.alebo_acqf_optimizer(Nei, \n",
    "                                                    bounds = [None, None],\n",
    "                                                    n = 1,\n",
    "                                                    raw_samples = 512,\n",
    "                                                    num_restarts = 20,\n",
    "                                                    B = B,\n",
    "                                                    inequality_constraints = None,\n",
    "                                                    fixed_features = None,\n",
    "                                                    rounding_func = None\n",
    "                                                    )\n",
    "        \n",
    "        \n",
    "        # Create pseudoinverse of B\n",
    "        pinv_B_D_x_d_array = np.linalg.pinv(B)\n",
    "\n",
    "        # Project new sample point, from embedding space to original space, via pseudoinverse of B\n",
    "        new_x_projected_up_D_x_1_array = pinv_B_D_x_d_array @ new_x_1_x_d_tensor.numpy().T\n",
    "\n",
    "        # Update training points in embedding space, with new point \n",
    "        train_x_projected_down_n_x_d_tensor = torch.cat([train_x_projected_down_n_x_d_tensor, new_x_1_x_d_tensor])\n",
    "        \n",
    "        # Project training data from embedding space, to original space, via pseudoinverse of B \n",
    "        train_x_projected_down_then_up_D_x_n_array = pinv_B_D_x_d_array @ train_x_projected_down_n_x_d_tensor.numpy().T\n",
    "        new_obj_projected_up = torch.tensor(Branin_100_ALEBO_BOTorch_wrapper(new_x_projected_up_D_x_1_array)).unsqueeze(-1)\n",
    "\n",
    "        # Normalise new objective value\n",
    "        new_obj_projected_up_normalised = (new_obj_projected_up - mean_init_data) / std_dev_init_data\n",
    "        \n",
    "        # Append the new (normalised) objective value to the other (normalised) objective values\n",
    "        train_obj_normalised = torch.cat([train_obj_normalised, torch.tensor(new_obj_projected_up_normalised)])\n",
    "\n",
    "        # Execute random sample point, append best value to best_random list\n",
    "        best_random = update_random_observations_Branin_100(best_random)\n",
    "                \n",
    "        # Get the best value amongst all the normalised objective values\n",
    "        best_value = train_obj_normalised.min().item()\n",
    "        \n",
    "        # Append the best value, amongst all normalised objectives, to the best_observed array\n",
    "        best_observed.append(best_value)\n",
    "        \n",
    "        # Retrain the GP model on the training sample points (plus new value), and training objectives (plus new value)\n",
    "        mll, model = initialize_model(train_x_projected_down_n_x_d_tensor, train_obj_normalised, B = B, noise = noise)\n",
    "        init_state_dict = model.state_dict()\n",
    "\n",
    "        print (f'reached end of BO loop, iteration = {iteration}')\n",
    "\n",
    "    best_observed_all.append(best_observed)\n",
    "    best_random_all.append(best_random)\n",
    "best_observed_all = (np.asarray(best_observed_all) * std_dev_init_data) + mean_init_data\n",
    "best_random_all = (np.asarray(best_random_all) * std_dev_init_data) + mean_init_data"
   ]
  },
  {
   "cell_type": "markdown",
   "id": "brilliant-classic",
   "metadata": {},
   "source": [
    "# Visualise results"
   ]
  },
  {
   "cell_type": "code",
   "execution_count": 23,
   "id": "funny-extraction",
   "metadata": {
    "ExecuteTime": {
     "end_time": "2021-02-17T10:14:44.960819Z",
     "start_time": "2021-02-17T10:14:44.697161Z"
    }
   },
   "outputs": [
    {
     "name": "stdout",
     "output_type": "stream",
     "text": [
      "best_observed_all = [[312.18479811  41.33407431  41.33407431  41.33407431  41.33407431\n",
      "   41.33407431  41.33407431  41.33407431  41.33407431  41.33407431\n",
      "   41.33407431  41.33407431  41.33407431  41.33407431  41.33407431\n",
      "   41.33407431]\n",
      " [302.09637519  45.35745784  45.35745784  45.35745784  45.35745784\n",
      "   45.35745784  45.35745784  45.35745784  45.35745784  45.35745784\n",
      "   45.35745784  45.35745784  45.35745784  45.35745784  45.35745784\n",
      "   45.35745784]\n",
      " [313.57888834  44.9337661   44.9337661   44.9337661   44.9337661\n",
      "   44.9337661   44.9337661   44.9337661   44.9337661   44.9337661\n",
      "   44.9337661   44.9337661   44.9337661   44.9337661   44.9337661\n",
      "   44.9337661 ]]\n",
      "best_random_all = [[312.18479811 312.18479811 312.18479811 312.18479811 312.18479811\n",
      "  312.18479811 312.18479811 312.18479811 312.18479811 312.18479811\n",
      "  312.18479811 312.18479811 312.18479811 312.18479811 312.18479811\n",
      "  312.18479811]\n",
      " [302.09637519 302.09637519 302.09637519 302.09637519 302.09637519\n",
      "  302.09637519 302.09637519 302.09637519 302.09637519 302.09637519\n",
      "  302.09637519 302.09637519 302.09637519 302.09637519 302.09637519\n",
      "  302.09637519]\n",
      " [313.57888834 313.57888834 313.57888834 313.57888834 313.57888834\n",
      "  313.57888834 313.57888834 306.36697663 306.36697663 306.36697663\n",
      "  306.36697663 306.36697663 306.36697663 306.36697663 306.36697663\n",
      "  306.36697663]]\n"
     ]
    },
    {
     "data": {
      "text/plain": [
       "<matplotlib.legend.Legend at 0x225b69e2fa0>"
      ]
     },
     "execution_count": 23,
     "metadata": {},
     "output_type": "execute_result"
    },
    {
     "data": {
      "image/png": "[encoded data removed]",
      "text/plain": [
       "<Figure size 576x432 with 1 Axes>"
      ]
     },
     "metadata": {
      "needs_background": "light"
     },
     "output_type": "display_data"
    }
   ],
   "source": [
    "%matplotlib inline\n",
    "\n",
    "def ci(y):\n",
    "    return 1.96 * y.std(axis=0) / np.sqrt(N_TRIALS)\n",
    "\n",
    "print (f'best_observed_all = {best_observed_all}')\n",
    "print (f'best_random_all = {best_random_all}')\n",
    "\n",
    "iters = np.arange(N_BATCH + 1)\n",
    "y = np.asarray(best_observed_all)\n",
    "y_rnd =  np.asarray(best_random_all)\n",
    "\n",
    "fig, ax = plt.subplots(1, 1, figsize=(8, 6))\n",
    "ax.errorbar(iters, y_rnd.mean(axis=0), yerr=ci(y_rnd), label=\"random\", linewidth=1.5, capsize=3, alpha=0.6)\n",
    "ax.errorbar(iters, y.mean(axis=0), yerr=ci(y), label=\"EI\", linewidth=1.5, capsize=3, alpha=0.6)\n",
    "ax.set(xlabel='number of observations (beyond initial points)', ylabel='Regret')\n",
    "ax.legend(loc=\"lower left\")"
   ]
  },
  {
   "cell_type": "code",
   "execution_count": null,
   "id": "equal-evaluation",
   "metadata": {},
   "outputs": [],
   "source": []
  }
 ],
 "metadata": {
  "kernelspec": {
   "display_name": "Python 3",
   "language": "python",
   "name": "python3"
  },
  "language_info": {
   "codemirror_mode": {
    "name": "ipython",
    "version": 3
   },
   "file_extension": ".py",
   "mimetype": "text/x-python",
   "name": "python",
   "nbconvert_exporter": "python",
   "pygments_lexer": "ipython3",
   "version": "3.8.3"
  },
  "toc": {
   "base_numbering": 1,
   "nav_menu": {},
   "number_sections": true,
   "sideBar": true,
   "skip_h1_title": false,
   "title_cell": "Table of Contents",
   "title_sidebar": "Contents",
   "toc_cell": false,
   "toc_position": {},
   "toc_section_display": true,
   "toc_window_display": false
  }
 },
 "nbformat": 4,
 "nbformat_minor": 5
}
